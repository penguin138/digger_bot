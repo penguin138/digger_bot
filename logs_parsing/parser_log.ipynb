{
 "cells": [
  {
   "cell_type": "code",
   "execution_count": 5,
   "metadata": {
    "collapsed": false
   },
   "outputs": [
    {
     "name": "stdout",
     "output_type": "stream",
     "text": [
      "0\n",
      "1000\n",
      "2000\n",
      "3000\n",
      "4000\n",
      "5000\n",
      "6000\n",
      "7000\n",
      "8000\n",
      "9000\n",
      "10000\n",
      "11000\n",
      "12000\n",
      "13000\n",
      "14000\n",
      "15000\n",
      "16000\n",
      "17000\n",
      "18000\n",
      "19000\n",
      "20000\n",
      "21000\n",
      "22000\n",
      "23000\n",
      "24000\n",
      "25000\n",
      "26000\n",
      "27000\n",
      "28000\n",
      "28360\n"
     ]
    }
   ],
   "source": [
    "import time\n",
    "import re\n",
    "\n",
    "chats = []\n",
    "f = open(\"Tinkoff Chat Sample Big.txt\", \"r+\")\n",
    "\n",
    "idx = 0\n",
    "while True:\n",
    "    if not f.readline():\n",
    "        break\n",
    "    f.readline()\n",
    "    f.readline()\n",
    "    s = f.readline().strip()\n",
    "    chat = []\n",
    "    while (not '--------' in s):\n",
    "        s = s[9:]\n",
    "        if s[:6] == \"Клиент\":\n",
    "            s = s[8:]\n",
    "        else:\n",
    "            s = s[11:]\n",
    "        s = re.split(\"[-\\.!?\\s]+\", s)\n",
    "        s = [x for x in s if x]\n",
    "        chat.append(s)\n",
    "        s = f.readline().strip()\n",
    "    f.readline()\n",
    "    chats.append(chat)\n",
    "    if (idx % 1000 == 0):\n",
    "        print(idx)\n",
    "    idx += 1\n",
    "    \n",
    "print(len(chats))"
   ]
  },
  {
   "cell_type": "code",
   "execution_count": null,
   "metadata": {
    "collapsed": true
   },
   "outputs": [],
   "source": []
  },
  {
   "cell_type": "code",
   "execution_count": null,
   "metadata": {
    "collapsed": true
   },
   "outputs": [],
   "source": []
  }
 ],
 "metadata": {
  "kernelspec": {
   "display_name": "Python 3",
   "language": "python",
   "name": "python3"
  },
  "language_info": {
   "codemirror_mode": {
    "name": "ipython",
    "version": 3
   },
   "file_extension": ".py",
   "mimetype": "text/x-python",
   "name": "python",
   "nbconvert_exporter": "python",
   "pygments_lexer": "ipython3",
   "version": "3.5.1"
  }
 },
 "nbformat": 4,
 "nbformat_minor": 0
}
