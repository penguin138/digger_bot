{
 "cells": [
  {
   "cell_type": "code",
   "execution_count": 24,
   "metadata": {
    "collapsed": false
   },
   "outputs": [
    {
     "name": "stdout",
     "output_type": "stream",
     "text": [
      "0\n",
      "1000\n",
      "2000\n",
      "3000\n",
      "4000\n",
      "5000\n",
      "6000\n",
      "7000\n",
      "8000\n",
      "9000\n",
      "10000\n",
      "11000\n",
      "12000\n",
      "13000\n",
      "14000\n",
      "15000\n",
      "16000\n",
      "17000\n",
      "18000\n",
      "19000\n",
      "20000\n",
      "21000\n",
      "22000\n",
      "23000\n",
      "24000\n",
      "25000\n",
      "26000\n",
      "27000\n",
      "28000\n",
      "28360\n"
     ]
    }
   ],
   "source": [
    "import time\n",
    "import re\n",
    "import math\n",
    "\n",
    "chats = []\n",
    "sentences = []\n",
    "f = open(\"Tinkoff Chat Sample Big.txt\", \"r+\")\n",
    "idx = 0\n",
    "while True:\n",
    "    if not f.readline():\n",
    "        break\n",
    "    f.readline()\n",
    "    f.readline()\n",
    "    s = f.readline().strip()\n",
    "    chat = []\n",
    "    person = \"\"\n",
    "    #prev_person = \"\"\n",
    "    current_phrase = \"\"\n",
    "    while (not '--------' in s):\n",
    "        s = remove_timestamp(s)\n",
    "        person = s[:6] \n",
    "        #if person == prev_person:\n",
    "        if person == 'Клиент':\n",
    "            current_phrase = s[8:]\n",
    "        else:\n",
    "            current_phrase = s[11:]\n",
    "        #else:\n",
    "        current_phrase = parse_phrase(current_phrase)\n",
    "        sentences.append(current_phrase)\n",
    "        #    if person != '' and current_phrase != []:\n",
    "        # \n",
    "        chat.append((person, current_phrase))\n",
    "        #    if person == 'Клиент':\n",
    "        #       current_phrase = s[8:]\n",
    "        #    else:\n",
    "        #        current_phrase = s[11:]\n",
    "        #prev_person = person\n",
    "        s = f.readline().strip()\n",
    "    #if isinstance(current_phrase,str):\n",
    "    #    current_phrase = parse_phrase(current_phrase, person)\n",
    "    #if person != '' and current_phrase != []:\n",
    "    #    chat.append((person,current_phrase))\n",
    "    f.readline()\n",
    "    chats.append(chat)\n",
    "    if (idx % 1000 == 0):\n",
    "        print(idx)\n",
    "    idx += 1\n",
    "    \n",
    "print(len(chats))"
   ]
  },
  {
   "cell_type": "code",
   "execution_count": 25,
   "metadata": {
    "collapsed": true
   },
   "outputs": [],
   "source": [
    "def remove_timestamp(string):\n",
    "    return string[9:]\n",
    "def parse_phrase(phrase, person='Клиент'):\n",
    "    if person == 'Клиент':\n",
    "        phrase = re.split(\"[\\:\\-\\.!?\\s]+\", phrase)\n",
    "    else :\n",
    "        phrase = re.split(\"\\s+\", phrase)\n",
    "    return [x for x in phrase if x]\n",
    "def print_chats(chats):\n",
    "    for chat in chats:\n",
    "        for item in chat:\n",
    "            print(\"{}: {}\".format(item[0],item[1]))\n",
    "        print(\"NEW CHAT\")\n",
    "def print_chats_to_faq(chats):\n",
    "    with open(\"faq3.txt\", 'w') as faq:\n",
    "        for chat in chats:\n",
    "            if len(chat) < 7:\n",
    "                for i in range(len(chat)):\n",
    "                    item = chat[i]\n",
    "                    if i % 2 == 0 and i != (len(chat) - 1):\n",
    "                        faq.write(\" \".join(item[1]))\n",
    "                        faq.write(\"\\n++++\\n\")\n",
    "                    elif i % 2 != 0:\n",
    "                        faq.write(\" \".join(item[1]))\n",
    "                        faq.write('\\n\\n')\n",
    "                #faq.write('NEW CHAT\\n')\n",
    "def count_word_freqs(sentences):\n",
    "    all_words = 0\n",
    "    words = {}\n",
    "    for sentence in sentences:\n",
    "        for word in sentence:\n",
    "            all_words += 1\n",
    "            if word in words:\n",
    "                words[word] +=1\n",
    "            else:\n",
    "                words[word] = 1\n",
    "    for elem in words.keys():\n",
    "        words[elem] = math.log(words[elem]/all_words)\n",
    "    return words"
   ]
  },
  {
   "cell_type": "code",
   "execution_count": 34,
   "metadata": {
    "collapsed": false
   },
   "outputs": [],
   "source": [
    "words = count_word_freqs(sentences)\n",
    "dialogs = []\n",
    "max_dialog_len = 12\n",
    "for i in range(len(chats)):\n",
    "    current_chat = chats[i]\n",
    "    if len(current_chat) > max_dialog_len:\n",
    "        continue\n",
    "    min_client_score = 0\n",
    "    best_question = \"\"\n",
    "    best_answer = \"\"\n",
    "    min_employee_score = 0\n",
    "    best_index = 0\n",
    "    index = 0\n",
    "    for (person, sentence) in current_chat:\n",
    "        sentence_score = 0\n",
    "        for word in sentence:\n",
    "            sentence_score += words[word]\n",
    "        if person != \"Клиент\" and sentence_score < min_employee_score:\n",
    "            best_answer = sentence\n",
    "            min_employee_score = sentence_score\n",
    "            best_index = index\n",
    "        index += 1\n",
    "    for j in range(best_index):\n",
    "        person, sentence = current_chat[j]\n",
    "        sentence_score = 0\n",
    "        for word in sentence:\n",
    "            sentence_score += words[word]\n",
    "        if person == \"Клиент\" and sentence_score < min_client_score:\n",
    "            best_question = sentence\n",
    "            min_client_score = sentence_score\n",
    "    dialogs.append((best_question, best_answer))"
   ]
  },
  {
   "cell_type": "code",
   "execution_count": 35,
   "metadata": {
    "collapsed": false
   },
   "outputs": [
    {
     "name": "stdout",
     "output_type": "stream",
     "text": [
      "11291\n"
     ]
    }
   ],
   "source": [
    "print(len(dialogs))"
   ]
  },
  {
   "cell_type": "code",
   "execution_count": 39,
   "metadata": {
    "collapsed": false
   },
   "outputs": [],
   "source": [
    "def print_dialogs(dialogs):\n",
    "    with open(\"faq4.txt\", 'w') as faq:\n",
    "        for question, answer in dialogs:\n",
    "            faq.write(\" \".join(question) + '\\n')\n",
    "            faq.write('++++\\n')\n",
    "            faq.write(\" \".join(answer) + '\\n\\n')"
   ]
  },
  {
   "cell_type": "code",
   "execution_count": 40,
   "metadata": {
    "collapsed": false
   },
   "outputs": [],
   "source": [
    "print_dialogs(dialogs)"
   ]
  },
  {
   "cell_type": "code",
   "execution_count": null,
   "metadata": {
    "collapsed": true
   },
   "outputs": [],
   "source": []
  }
 ],
 "metadata": {
  "kernelspec": {
   "display_name": "Python 3",
   "language": "python",
   "name": "python3"
  },
  "language_info": {
   "codemirror_mode": {
    "name": "ipython",
    "version": 3
   },
   "file_extension": ".py",
   "mimetype": "text/x-python",
   "name": "python",
   "nbconvert_exporter": "python",
   "pygments_lexer": "ipython3",
   "version": "3.5.1"
  }
 },
 "nbformat": 4,
 "nbformat_minor": 0
}
